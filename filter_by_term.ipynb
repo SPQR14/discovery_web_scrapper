{
 "cells": [
  {
   "cell_type": "code",
   "execution_count": 14,
   "id": "4f1a6f3b-8aca-4279-a1d8-bbe6325464d0",
   "metadata": {},
   "outputs": [],
   "source": [
    "import pandas as pd\n",
    "import os"
   ]
  },
  {
   "cell_type": "code",
   "execution_count": 15,
   "id": "df621764-49fb-4315-8648-ace633cdbeae",
   "metadata": {},
   "outputs": [],
   "source": [
    "path = 'data/table/'"
   ]
  },
  {
   "cell_type": "code",
   "execution_count": 16,
   "id": "23835302-b3c5-4111-95f3-a81c628cb5e5",
   "metadata": {},
   "outputs": [
    {
     "data": {
      "text/plain": [
       "['~$finaciero.xlsx', 'finaciero.xlsx']"
      ]
     },
     "execution_count": 16,
     "metadata": {},
     "output_type": "execute_result"
    }
   ],
   "source": [
    "os.listdir(path)"
   ]
  },
  {
   "cell_type": "code",
   "execution_count": 17,
   "id": "93da444e-ba59-419b-bfb9-4206f8550811",
   "metadata": {},
   "outputs": [],
   "source": [
    "df = pd.read_excel(f\"{path}finaciero.xlsx\")"
   ]
  },
  {
   "cell_type": "code",
   "execution_count": 22,
   "id": "394c35af-9db0-4401-af76-275a054c8270",
   "metadata": {},
   "outputs": [
    {
     "data": {
      "text/html": [
       "<div>\n",
       "<style scoped>\n",
       "    .dataframe tbody tr th:only-of-type {\n",
       "        vertical-align: middle;\n",
       "    }\n",
       "\n",
       "    .dataframe tbody tr th {\n",
       "        vertical-align: top;\n",
       "    }\n",
       "\n",
       "    .dataframe thead th {\n",
       "        text-align: right;\n",
       "    }\n",
       "</style>\n",
       "<table border=\"1\" class=\"dataframe\">\n",
       "  <thead>\n",
       "    <tr style=\"text-align: right;\">\n",
       "      <th></th>\n",
       "      <th>url</th>\n",
       "      <th>Fecha</th>\n",
       "      <th>titulo</th>\n",
       "      <th>contenido</th>\n",
       "    </tr>\n",
       "  </thead>\n",
       "  <tbody>\n",
       "    <tr>\n",
       "      <th>2</th>\n",
       "      <td>https://www.elfinanciero.com.mx/economia/</td>\n",
       "      <td>agosto 07, 2024 |  2:44 am hrs</td>\n",
       "      <td>Economía | El Financiero</td>\n",
       "      <td>Depreciación del peso pone presión a precio de...</td>\n",
       "    </tr>\n",
       "    <tr>\n",
       "      <th>4</th>\n",
       "      <td>https://www.elfinanciero.com.mx/nacional/</td>\n",
       "      <td>agosto 07, 2024 | 11:04 am hrs</td>\n",
       "      <td>Nacional | El Financiero</td>\n",
       "      <td>Genaro García Luna, con ‘la soga al cuello’: B...</td>\n",
       "    </tr>\n",
       "    <tr>\n",
       "      <th>7</th>\n",
       "      <td>https://www.elfinanciero.com.mx/FoxSports/</td>\n",
       "      <td>agosto 07, 2024 |  9:00 am hrs</td>\n",
       "      <td>El Financiero</td>\n",
       "      <td>La historia de Imane Khelif: De vender chatarr...</td>\n",
       "    </tr>\n",
       "    <tr>\n",
       "      <th>8</th>\n",
       "      <td>https://www.elfinanciero.com.mx/estados/</td>\n",
       "      <td>agosto 07, 2024 | 12:06 pm hrs</td>\n",
       "      <td>Estados</td>\n",
       "      <td>Camioneta que transportaba personas migrantes ...</td>\n",
       "    </tr>\n",
       "    <tr>\n",
       "      <th>21</th>\n",
       "      <td>https://www.elfinanciero.com.mx/empresas/</td>\n",
       "      <td>agosto 07, 2024 |  8:53 am hrs</td>\n",
       "      <td>Empresas | El Financiero</td>\n",
       "      <td>Infonavit flexibiliza sus créditos para 2024: ...</td>\n",
       "    </tr>\n",
       "  </tbody>\n",
       "</table>\n",
       "</div>"
      ],
      "text/plain": [
       "                                           url  \\\n",
       "2    https://www.elfinanciero.com.mx/economia/   \n",
       "4    https://www.elfinanciero.com.mx/nacional/   \n",
       "7   https://www.elfinanciero.com.mx/FoxSports/   \n",
       "8     https://www.elfinanciero.com.mx/estados/   \n",
       "21   https://www.elfinanciero.com.mx/empresas/   \n",
       "\n",
       "                             Fecha                    titulo  \\\n",
       "2   agosto 07, 2024 |  2:44 am hrs  Economía | El Financiero   \n",
       "4   agosto 07, 2024 | 11:04 am hrs  Nacional | El Financiero   \n",
       "7   agosto 07, 2024 |  9:00 am hrs             El Financiero   \n",
       "8   agosto 07, 2024 | 12:06 pm hrs                   Estados   \n",
       "21  agosto 07, 2024 |  8:53 am hrs  Empresas | El Financiero   \n",
       "\n",
       "                                            contenido  \n",
       "2   Depreciación del peso pone presión a precio de...  \n",
       "4   Genaro García Luna, con ‘la soga al cuello’: B...  \n",
       "7   La historia de Imane Khelif: De vender chatarr...  \n",
       "8   Camioneta que transportaba personas migrantes ...  \n",
       "21  Infonavit flexibiliza sus créditos para 2024: ...  "
      ]
     },
     "execution_count": 22,
     "metadata": {},
     "output_type": "execute_result"
    }
   ],
   "source": [
    "df.head()"
   ]
  },
  {
   "cell_type": "code",
   "execution_count": 19,
   "id": "fd91d34d-7c42-455c-abbd-cf6e77b4c0ba",
   "metadata": {},
   "outputs": [],
   "source": [
    "df.dropna(inplace=True)"
   ]
  },
  {
   "cell_type": "code",
   "execution_count": 20,
   "id": "6c66542f-8e3b-443f-bc38-e0edfe564fcb",
   "metadata": {},
   "outputs": [
    {
     "name": "stdout",
     "output_type": "stream",
     "text": [
      "<class 'pandas.core.frame.DataFrame'>\n",
      "Int64Index: 355 entries, 2 to 485\n",
      "Data columns (total 4 columns):\n",
      " #   Column     Non-Null Count  Dtype \n",
      "---  ------     --------------  ----- \n",
      " 0   url        355 non-null    object\n",
      " 1   Fecha      355 non-null    object\n",
      " 2   titulo     355 non-null    object\n",
      " 3   contenido  355 non-null    object\n",
      "dtypes: object(4)\n",
      "memory usage: 13.9+ KB\n"
     ]
    }
   ],
   "source": [
    "df.info()"
   ]
  },
  {
   "cell_type": "code",
   "execution_count": 21,
   "id": "0e4f7caf-9aa4-4620-979a-7fe8a1756e0e",
   "metadata": {},
   "outputs": [],
   "source": [
    "terms = [\n",
    "    'Recolocación de la inversión en México',\n",
    "    'Relocalización de las inversiones hacia México',\n",
    "    'Inversión extranjera directa en México',\n",
    "    'Nearshoring',\n",
    "    'Nearshoring en México',\n",
    "    'Recolocación de las cadenas de mininistro',\n",
    "    'Inversión extranjera'\n",
    "]"
   ]
  },
  {
   "cell_type": "code",
   "execution_count": 31,
   "id": "8ea5e899-89c6-4d73-a1c2-aff1b7b10d4f",
   "metadata": {},
   "outputs": [],
   "source": [
    "def buscar_y_destruir(s, buscar):\n",
    "    return buscar in str(s).lower()"
   ]
  },
  {
   "cell_type": "code",
   "execution_count": 32,
   "id": "54d1b024-6a85-46a6-aec7-5e3c06085bbd",
   "metadata": {},
   "outputs": [],
   "source": [
    "terms = [x.lower() for x in terms]"
   ]
  },
  {
   "cell_type": "code",
   "execution_count": 36,
   "id": "07c18b88-c510-49c9-9965-551e8a0dc7f4",
   "metadata": {},
   "outputs": [],
   "source": [
    "mask = df.apply(lambda x: x.map(lambda s: buscar_y_destruir(s, 'nearshoring')))"
   ]
  },
  {
   "cell_type": "code",
   "execution_count": 37,
   "id": "e6c1933a-3749-4704-b44b-6895b5d8bcfc",
   "metadata": {},
   "outputs": [],
   "source": [
    "filtered_df = df.loc[mask.any(axis=1)]"
   ]
  },
  {
   "cell_type": "code",
   "execution_count": 39,
   "id": "e469bff8-fd18-4368-acc9-f6ee63625132",
   "metadata": {},
   "outputs": [
    {
     "name": "stdout",
     "output_type": "stream",
     "text": [
      "<class 'pandas.core.frame.DataFrame'>\n",
      "Int64Index: 10 entries, 225 to 480\n",
      "Data columns (total 4 columns):\n",
      " #   Column     Non-Null Count  Dtype \n",
      "---  ------     --------------  ----- \n",
      " 0   url        10 non-null     object\n",
      " 1   Fecha      10 non-null     object\n",
      " 2   titulo     10 non-null     object\n",
      " 3   contenido  10 non-null     object\n",
      "dtypes: object(4)\n",
      "memory usage: 400.0+ bytes\n"
     ]
    }
   ],
   "source": [
    "filtered_df.info()"
   ]
  },
  {
   "cell_type": "code",
   "execution_count": 40,
   "id": "1b7888fd-2169-4f34-869e-556c9a395784",
   "metadata": {},
   "outputs": [
    {
     "data": {
      "text/html": [
       "<div>\n",
       "<style scoped>\n",
       "    .dataframe tbody tr th:only-of-type {\n",
       "        vertical-align: middle;\n",
       "    }\n",
       "\n",
       "    .dataframe tbody tr th {\n",
       "        vertical-align: top;\n",
       "    }\n",
       "\n",
       "    .dataframe thead th {\n",
       "        text-align: right;\n",
       "    }\n",
       "</style>\n",
       "<table border=\"1\" class=\"dataframe\">\n",
       "  <thead>\n",
       "    <tr style=\"text-align: right;\">\n",
       "      <th></th>\n",
       "      <th>url</th>\n",
       "      <th>Fecha</th>\n",
       "      <th>titulo</th>\n",
       "      <th>contenido</th>\n",
       "    </tr>\n",
       "  </thead>\n",
       "  <tbody>\n",
       "    <tr>\n",
       "      <th>225</th>\n",
       "      <td>https://www.elfinanciero.com.mx/bloomberg-busi...</td>\n",
       "      <td>julio 11, 2024 |  8:09 am hrs</td>\n",
       "      <td>¿Qué le toca a cada estado? Esta es la apuesta...</td>\n",
       "      <td>La presidenta entrante apuesta el crecimiento ...</td>\n",
       "    </tr>\n",
       "    <tr>\n",
       "      <th>228</th>\n",
       "      <td>https://www.elfinanciero.com.mx/bloomberg-busi...</td>\n",
       "      <td>junio 27, 2024 |  1:00 am hrs</td>\n",
       "      <td>AMLO queda a deber en transformación económica...</td>\n",
       "      <td>Ya han pasado casi seis años de la Administrac...</td>\n",
       "    </tr>\n",
       "    <tr>\n",
       "      <th>246</th>\n",
       "      <td>https://www.elfinanciero.com.mx/inmobiliario/2...</td>\n",
       "      <td>julio 10, 2024 | 11:21 am hrs</td>\n",
       "      <td>Thor Urbana expande en industrial – El Financiero</td>\n",
       "      <td>Con más de 1.6 millones de pies cuadrados de á...</td>\n",
       "    </tr>\n",
       "    <tr>\n",
       "      <th>266</th>\n",
       "      <td>https://www.elfinanciero.com.mx/transporte-y-m...</td>\n",
       "      <td>julio 25, 2024 | 13:58 pm hrs</td>\n",
       "      <td>Descarbonización, eje rector de Expo Transport...</td>\n",
       "      <td>Con un camino trazado hacia la descarbonizació...</td>\n",
       "    </tr>\n",
       "    <tr>\n",
       "      <th>269</th>\n",
       "      <td>https://www.elfinanciero.com.mx/monterrey/2024...</td>\n",
       "      <td>agosto 07, 2024 |  8:04 am hrs</td>\n",
       "      <td>Buscan reconversión de empresas tecnológicas –...</td>\n",
       "      <td>Para posicionar a Nuevo León (NL) como un refe...</td>\n",
       "    </tr>\n",
       "    <tr>\n",
       "      <th>413</th>\n",
       "      <td>https://www.elfinanciero.com.mx/opinion/clemen...</td>\n",
       "      <td>julio 31, 2024 | 16:00 pm hrs</td>\n",
       "      <td>El dilema del crecimiento en la transición – E...</td>\n",
       "      <td>Un elemento clave en la transición será el cre...</td>\n",
       "    </tr>\n",
       "    <tr>\n",
       "      <th>415</th>\n",
       "      <td>https://www.elfinanciero.com.mx/opinion/clemen...</td>\n",
       "      <td>julio 17, 2024 | 17:09 pm hrs</td>\n",
       "      <td>Trumpeconomics vs. Bideneconomics: el reto par...</td>\n",
       "      <td>El inicio de la convención republicana en Esta...</td>\n",
       "    </tr>\n",
       "    <tr>\n",
       "      <th>437</th>\n",
       "      <td>https://www.elfinanciero.com.mx/opinion/manuel...</td>\n",
       "      <td>julio 31, 2024 | 10:33 am hrs</td>\n",
       "      <td>El esperado ‘nearshoring’ – El Financiero</td>\n",
       "      <td>La relocalización de los procesos productivos ...</td>\n",
       "    </tr>\n",
       "    <tr>\n",
       "      <th>440</th>\n",
       "      <td>https://www.elfinanciero.com.mx/opinion/manuel...</td>\n",
       "      <td>julio 10, 2024 |  9:22 am hrs</td>\n",
       "      <td>La contrastante debilidad de la economía mexic...</td>\n",
       "      <td>Desde 2019, la economía mexicana ha mostrado u...</td>\n",
       "    </tr>\n",
       "    <tr>\n",
       "      <th>480</th>\n",
       "      <td>https://www.elfinanciero.com.mx/economia/2024/...</td>\n",
       "      <td>julio 03, 2024 | 23:24 pm hrs</td>\n",
       "      <td>México ‘mete gol’ en EU... pero en exportacion...</td>\n",
       "      <td>México consolidó su posición como principal so...</td>\n",
       "    </tr>\n",
       "  </tbody>\n",
       "</table>\n",
       "</div>"
      ],
      "text/plain": [
       "                                                   url  \\\n",
       "225  https://www.elfinanciero.com.mx/bloomberg-busi...   \n",
       "228  https://www.elfinanciero.com.mx/bloomberg-busi...   \n",
       "246  https://www.elfinanciero.com.mx/inmobiliario/2...   \n",
       "266  https://www.elfinanciero.com.mx/transporte-y-m...   \n",
       "269  https://www.elfinanciero.com.mx/monterrey/2024...   \n",
       "413  https://www.elfinanciero.com.mx/opinion/clemen...   \n",
       "415  https://www.elfinanciero.com.mx/opinion/clemen...   \n",
       "437  https://www.elfinanciero.com.mx/opinion/manuel...   \n",
       "440  https://www.elfinanciero.com.mx/opinion/manuel...   \n",
       "480  https://www.elfinanciero.com.mx/economia/2024/...   \n",
       "\n",
       "                              Fecha  \\\n",
       "225   julio 11, 2024 |  8:09 am hrs   \n",
       "228   junio 27, 2024 |  1:00 am hrs   \n",
       "246   julio 10, 2024 | 11:21 am hrs   \n",
       "266   julio 25, 2024 | 13:58 pm hrs   \n",
       "269  agosto 07, 2024 |  8:04 am hrs   \n",
       "413   julio 31, 2024 | 16:00 pm hrs   \n",
       "415   julio 17, 2024 | 17:09 pm hrs   \n",
       "437   julio 31, 2024 | 10:33 am hrs   \n",
       "440   julio 10, 2024 |  9:22 am hrs   \n",
       "480   julio 03, 2024 | 23:24 pm hrs   \n",
       "\n",
       "                                                titulo  \\\n",
       "225  ¿Qué le toca a cada estado? Esta es la apuesta...   \n",
       "228  AMLO queda a deber en transformación económica...   \n",
       "246  Thor Urbana expande en industrial – El Financiero   \n",
       "266  Descarbonización, eje rector de Expo Transport...   \n",
       "269  Buscan reconversión de empresas tecnológicas –...   \n",
       "413  El dilema del crecimiento en la transición – E...   \n",
       "415  Trumpeconomics vs. Bideneconomics: el reto par...   \n",
       "437          El esperado ‘nearshoring’ – El Financiero   \n",
       "440  La contrastante debilidad de la economía mexic...   \n",
       "480  México ‘mete gol’ en EU... pero en exportacion...   \n",
       "\n",
       "                                             contenido  \n",
       "225  La presidenta entrante apuesta el crecimiento ...  \n",
       "228  Ya han pasado casi seis años de la Administrac...  \n",
       "246  Con más de 1.6 millones de pies cuadrados de á...  \n",
       "266  Con un camino trazado hacia la descarbonizació...  \n",
       "269  Para posicionar a Nuevo León (NL) como un refe...  \n",
       "413  Un elemento clave en la transición será el cre...  \n",
       "415  El inicio de la convención republicana en Esta...  \n",
       "437  La relocalización de los procesos productivos ...  \n",
       "440  Desde 2019, la economía mexicana ha mostrado u...  \n",
       "480  México consolidó su posición como principal so...  "
      ]
     },
     "execution_count": 40,
     "metadata": {},
     "output_type": "execute_result"
    }
   ],
   "source": [
    "filtered_df"
   ]
  },
  {
   "cell_type": "code",
   "execution_count": 41,
   "id": "2d6199a5-e88f-4a90-a9c3-c2dd9a0a590a",
   "metadata": {},
   "outputs": [],
   "source": [
    "filtered_df.to_excel(\"nearshoring.xlsx\")"
   ]
  },
  {
   "cell_type": "code",
   "execution_count": null,
   "id": "8ed71ad9-617c-480b-906b-fe5c4a0608db",
   "metadata": {},
   "outputs": [],
   "source": []
  }
 ],
 "metadata": {
  "kernelspec": {
   "display_name": "DSS2anaconda",
   "language": "python",
   "name": "dss2anaconda"
  },
  "language_info": {
   "codemirror_mode": {
    "name": "ipython",
    "version": 3
   },
   "file_extension": ".py",
   "mimetype": "text/x-python",
   "name": "python",
   "nbconvert_exporter": "python",
   "pygments_lexer": "ipython3",
   "version": "3.10.11"
  }
 },
 "nbformat": 4,
 "nbformat_minor": 5
}
