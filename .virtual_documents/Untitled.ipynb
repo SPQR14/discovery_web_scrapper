import pandas as pd
import os


path = 'data/table/'


os.listdir(path)


df = pd.read_excel(f"{path}finaciero.xlsx")


df.head()


df.dropna(inplace=True)


df.info()



- Recolocación de la inversión en México
- Relocalización de las inversiones hacia México
- Inversión extranjera directa en México
- Nearshoring
- Nearshoring en México
- Recolocación de las cadenas de mininistro
- Inversión extranjera
